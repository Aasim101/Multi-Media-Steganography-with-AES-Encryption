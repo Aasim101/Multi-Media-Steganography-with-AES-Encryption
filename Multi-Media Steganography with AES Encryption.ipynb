{
  "cells": [
    {
      "cell_type": "code",
      "execution_count": 1,
      "metadata": {
        "colab": {
          "base_uri": "https://localhost:8080/"
        },
        "id": "bHjQJyU34q8z",
        "outputId": "834ff041-31f3-4b84-9f92-c618c63993d9"
      },
      "outputs": [
        {
          "output_type": "stream",
          "name": "stdout",
          "text": [
            "Requirement already satisfied: opencv-python in /usr/local/lib/python3.10/dist-packages (4.10.0.84)\n",
            "Requirement already satisfied: numpy in /usr/local/lib/python3.10/dist-packages (1.26.4)\n",
            "Collecting pydub\n",
            "  Downloading pydub-0.25.1-py2.py3-none-any.whl.metadata (1.4 kB)\n",
            "Requirement already satisfied: moviepy in /usr/local/lib/python3.10/dist-packages (1.0.3)\n",
            "Collecting pycryptodome\n",
            "  Downloading pycryptodome-3.21.0-cp36-abi3-manylinux_2_17_x86_64.manylinux2014_x86_64.whl.metadata (3.4 kB)\n",
            "Requirement already satisfied: decorator<5.0,>=4.0.2 in /usr/local/lib/python3.10/dist-packages (from moviepy) (4.4.2)\n",
            "Requirement already satisfied: imageio<3.0,>=2.5 in /usr/local/lib/python3.10/dist-packages (from moviepy) (2.36.0)\n",
            "Requirement already satisfied: imageio_ffmpeg>=0.2.0 in /usr/local/lib/python3.10/dist-packages (from moviepy) (0.5.1)\n",
            "Requirement already satisfied: tqdm<5.0,>=4.11.2 in /usr/local/lib/python3.10/dist-packages (from moviepy) (4.66.6)\n",
            "Requirement already satisfied: requests<3.0,>=2.8.1 in /usr/local/lib/python3.10/dist-packages (from moviepy) (2.32.3)\n",
            "Requirement already satisfied: proglog<=1.0.0 in /usr/local/lib/python3.10/dist-packages (from moviepy) (0.1.10)\n",
            "Requirement already satisfied: pillow>=8.3.2 in /usr/local/lib/python3.10/dist-packages (from imageio<3.0,>=2.5->moviepy) (11.0.0)\n",
            "Requirement already satisfied: setuptools in /usr/local/lib/python3.10/dist-packages (from imageio_ffmpeg>=0.2.0->moviepy) (75.1.0)\n",
            "Requirement already satisfied: charset-normalizer<4,>=2 in /usr/local/lib/python3.10/dist-packages (from requests<3.0,>=2.8.1->moviepy) (3.4.0)\n",
            "Requirement already satisfied: idna<4,>=2.5 in /usr/local/lib/python3.10/dist-packages (from requests<3.0,>=2.8.1->moviepy) (3.10)\n",
            "Requirement already satisfied: urllib3<3,>=1.21.1 in /usr/local/lib/python3.10/dist-packages (from requests<3.0,>=2.8.1->moviepy) (2.2.3)\n",
            "Requirement already satisfied: certifi>=2017.4.17 in /usr/local/lib/python3.10/dist-packages (from requests<3.0,>=2.8.1->moviepy) (2024.8.30)\n",
            "Downloading pydub-0.25.1-py2.py3-none-any.whl (32 kB)\n",
            "Downloading pycryptodome-3.21.0-cp36-abi3-manylinux_2_17_x86_64.manylinux2014_x86_64.whl (2.3 MB)\n",
            "\u001b[2K   \u001b[90m━━━━━━━━━━━━━━━━━━━━━━━━━━━━━━━━━━━━━━━━\u001b[0m \u001b[32m2.3/2.3 MB\u001b[0m \u001b[31m29.4 MB/s\u001b[0m eta \u001b[36m0:00:00\u001b[0m\n",
            "\u001b[?25hInstalling collected packages: pydub, pycryptodome\n",
            "Successfully installed pycryptodome-3.21.0 pydub-0.25.1\n"
          ]
        }
      ],
      "source": [
        "pip install opencv-python numpy pydub moviepy pycryptodome"
      ]
    },
    {
      "cell_type": "code",
      "execution_count": 2,
      "metadata": {
        "id": "VrYmeicPHF_o"
      },
      "outputs": [],
      "source": [
        "import cv2\n",
        "import numpy as np\n",
        "from Crypto.Cipher import AES\n",
        "from Crypto.Util.Padding import pad, unpad\n",
        "import base64\n",
        "import os\n",
        "from google.colab.patches import cv2_imshow  # Import this for displaying images in Colab\n",
        "\n",
        "# Helper function to generate a 16-byte AES key from the user-provided key\n",
        "def generate_aes_key(key):\n",
        "    return pad(key.encode('utf-8'), 16)[:16]  # Ensure the key is 16 bytes long\n",
        "\n",
        "# Function to encrypt the message using AES\n",
        "def encrypt_message(message, key):\n",
        "    aes_key = generate_aes_key(key)\n",
        "    cipher = AES.new(aes_key, AES.MODE_ECB)\n",
        "    encrypted_message = cipher.encrypt(pad(message.encode('utf-8'), AES.block_size))\n",
        "    return base64.b64encode(encrypted_message).decode('utf-8')\n",
        "\n",
        "# Function to decrypt the message using AES\n",
        "def decrypt_message(encrypted_message, key):\n",
        "    aes_key = generate_aes_key(key)\n",
        "    cipher = AES.new(aes_key, AES.MODE_ECB)\n",
        "    encrypted_message_bytes = base64.b64decode(encrypted_message.encode('utf-8'))\n",
        "    decrypted_message = unpad(cipher.decrypt(encrypted_message_bytes), AES.block_size)\n",
        "    return decrypted_message.decode('utf-8')\n",
        "\n",
        "# Function to embed the encrypted message in the image using LSB\n",
        "def encode_image(image_path, message, key, output_path):\n",
        "    # Encrypt the message using AES\n",
        "    encrypted_message = encrypt_message(message, key)\n",
        "    print(f\"Encrypted message: {encrypted_message}\")\n",
        "\n",
        "    # Read the image\n",
        "    image = cv2.imread(image_path)\n",
        "    if image is None:\n",
        "        raise ValueError(\"Image not found\")\n",
        "\n",
        "    # Convert the encrypted message to binary\n",
        "    encrypted_message += '#####'  # Delimiter to mark the end of the message\n",
        "    binary_message = ''.join([format(ord(char), '08b') for char in encrypted_message])\n",
        "\n",
        "    # Encode the binary message into the image\n",
        "    data_index = 0\n",
        "    for i in range(image.shape[0]):\n",
        "        for j in range(image.shape[1]):\n",
        "            pixel = list(image[i, j])\n",
        "            for n in range(3):  # Iterate through R, G, B channels\n",
        "                if data_index < len(binary_message):\n",
        "                    # Modify the LSB of each color channel\n",
        "                    pixel[n] = int(format(pixel[n], '08b')[:-1] + binary_message[data_index], 2)\n",
        "                    data_index += 1\n",
        "            image[i, j] = tuple(pixel)\n",
        "            if data_index >= len(binary_message):\n",
        "                break\n",
        "\n",
        "    # Save the output image\n",
        "    cv2.imwrite(output_path, image)\n",
        "    #print(f\"Message encoded into {output_path}\")\n",
        "    return \"Image Encoded and saved successfully \"\n",
        "    cv2_imshow(image)  # Display the encoded image in Colab\n",
        "\n",
        "# Function to extract and decrypt the message from the image\n",
        "def decode_image(image_path, key):\n",
        "    # Read the image\n",
        "    image = cv2.imread(image_path)\n",
        "    if image is None:\n",
        "        raise ValueError(\"Image not found\")\n",
        "\n",
        "    # Extract the binary message from the image\n",
        "    binary_message = \"\"\n",
        "    for i in range(image.shape[0]):\n",
        "        for j in range(image.shape[1]):\n",
        "            pixel = image[i, j]\n",
        "            for n in range(3):\n",
        "                binary_message += format(pixel[n], '08b')[-1]\n",
        "\n",
        "    # Convert the binary message to text\n",
        "    message = ''.join([chr(int(binary_message[i:i + 8], 2)) for i in range(0, len(binary_message), 8)])\n",
        "    encrypted_message = message.split('#####')[0]  # Extract the message up to the delimiter\n",
        "\n",
        "    # Decrypt the message using AES\n",
        "    try:\n",
        "        decrypted_message = decrypt_message(encrypted_message, key)\n",
        "        print(f\"Decrypted message: {decrypted_message}\")\n",
        "        return decrypted_message\n",
        "    except (ValueError, KeyError):\n",
        "        print(\"Decryption failed. Invalid key or corrupted message.\")\n",
        "        return None"
      ]
    },
    {
      "cell_type": "code",
      "execution_count": null,
      "metadata": {
        "id": "6eTbBVwsI3mn"
      },
      "outputs": [],
      "source": [
        "#input_image_path = 'Test Image.png'  # Path to the input image\n",
        "#output_image_path = 'encoded_image.png'  # Path to save the encoded image\n",
        "#secret_message = \"This is a top secret message!\"\n",
        "#encryption_key = \"my_secret_key\"  # User-provided key for AES encryption\n",
        "#encode_image(input_image_path, secret_message, encryption_key, output_image_path)"
      ]
    },
    {
      "cell_type": "code",
      "execution_count": null,
      "metadata": {
        "id": "SI8qIpfyIv8G"
      },
      "outputs": [],
      "source": [
        "#output_image_path = 'encoded_image.png'\n",
        "#decoding_key = input('Enter decryption key:')\n",
        "#decoded_message = decode_image(output_image_path, decoding_key)"
      ]
    },
    {
      "cell_type": "code",
      "source": [
        "pip install pydub"
      ],
      "metadata": {
        "colab": {
          "base_uri": "https://localhost:8080/"
        },
        "id": "ys0FIiU3aj9t",
        "outputId": "bc8e97d2-86c9-476f-e11b-ec7248cd1919"
      },
      "execution_count": null,
      "outputs": [
        {
          "output_type": "stream",
          "name": "stdout",
          "text": [
            "Requirement already satisfied: pydub in /usr/local/lib/python3.10/dist-packages (0.25.1)\n"
          ]
        }
      ]
    },
    {
      "cell_type": "code",
      "execution_count": 3,
      "metadata": {
        "id": "vEl1GBfBSWZK"
      },
      "outputs": [],
      "source": [
        "import wave\n",
        "from Crypto.Cipher import AES\n",
        "from Crypto.Util.Padding import pad, unpad\n",
        "import base64\n",
        "from pydub import AudioSegment\n",
        "\n",
        "\n",
        "# Helper function to generate a 16-byte AES key from the user-provided key\n",
        "def generate_aes_key(key):\n",
        "    return pad(key.encode('utf-8'), 16)[:16]  # Ensure the key is 16 bytes long\n",
        "\n",
        "# Function to encrypt the message using AES\n",
        "def encrypt_message(message, key):\n",
        "    aes_key = generate_aes_key(key)\n",
        "    cipher = AES.new(aes_key, AES.MODE_ECB)\n",
        "    encrypted_message = cipher.encrypt(pad(message.encode('utf-8'), AES.block_size))\n",
        "    return base64.b64encode(encrypted_message).decode('utf-8')\n",
        "\n",
        "# Function to decrypt the message using AES\n",
        "def decrypt_message(encrypted_message, key):\n",
        "    aes_key = generate_aes_key(key)\n",
        "    cipher = AES.new(aes_key, AES.MODE_ECB)\n",
        "    encrypted_message_bytes = base64.b64decode(encrypted_message.encode('utf-8'))\n",
        "    decrypted_message = unpad(cipher.decrypt(encrypted_message_bytes), AES.block_size)\n",
        "    return decrypted_message.decode('utf-8')\n",
        "\n",
        "\n",
        "def convert_mp3_to_wav(mp3_path):\n",
        "    audio = AudioSegment.from_mp3(mp3_path)\n",
        "    wav_path = mp3_path.replace(\".mp3\", \".wav\")\n",
        "    audio.export(wav_path, format=\"wav\")\n",
        "    return wav_path\n",
        "\n",
        "# Function to embed the encrypted message in the audio using LSB\n",
        "def encode_audio(audio_path, message, key, output_path):\n",
        "    # Encrypt the message using AES\n",
        "\n",
        "    if audio_path.endswith(\".mp3\"):\n",
        "        audio_path = convert_mp3_to_wav(audio_path)\n",
        "        print(f\"Converted MP3 to WAV: {audio_path}\")\n",
        "\n",
        "    encrypted_message = encrypt_message(message, key)\n",
        "    print(f\"Encrypted message: {encrypted_message}\")\n",
        "\n",
        "    # Open the audio file\n",
        "    audio = wave.open(audio_path, mode='rb')\n",
        "    frame_bytes = bytearray(list(audio.readframes(audio.getnframes())))\n",
        "\n",
        "    # Convert the encrypted message to binary\n",
        "    encrypted_message += '#####'  # Delimiter to mark the end of the message\n",
        "    binary_message = ''.join([format(ord(char), '08b') for char in encrypted_message])\n",
        "\n",
        "    # Embed the binary message into the LSB of audio frames\n",
        "    data_index = 0\n",
        "    for i in range(len(frame_bytes)):\n",
        "        if data_index < len(binary_message):\n",
        "            frame_bytes[i] = (frame_bytes[i] & 254) | int(binary_message[data_index])\n",
        "            data_index += 1\n",
        "\n",
        "    # Save the modified audio\n",
        "    modified_audio = wave.open(output_path, 'wb')\n",
        "    modified_audio.setparams(audio.getparams())\n",
        "    modified_audio.writeframes(bytes(frame_bytes))\n",
        "    audio.close()\n",
        "    modified_audio.close()\n",
        "    #print(f\"Message encoded into {output_path}\")\n",
        "    return \"Audio Encoded and saved successfully \"\n",
        "\n",
        "# Function to extract and decrypt the message from the audio\n",
        "def decode_audio(audio_path, kay):\n",
        "    # Open the audio file\n",
        "    audio = wave.open(audio_path, mode='rb')\n",
        "    frame_bytes = bytearray(list(audio.readframes(audio.getnframes())))\n",
        "\n",
        "    # Extract the binary message\n",
        "    binary_message = ''.join([str(frame_bytes[i] & 1) for i in range(len(frame_bytes))])\n",
        "\n",
        "    # Convert the binary message to text\n",
        "    message = ''.join([chr(int(binary_message[i:i + 8], 2)) for i in range(0, len(binary_message), 8)])\n",
        "    encrypted_message = message.split('#####')[0]  # Extract the message up to the delimiter\n",
        "    audio.close()\n",
        "\n",
        "    # Decrypt the message using AES\n",
        "    try:\n",
        "        decrypted_message = decrypt_message(encrypted_message, kay)\n",
        "        print(f\"Decrypted message: {decrypted_message}\")\n",
        "        return decrypted_message\n",
        "    except (ValueError, KeyError):\n",
        "        print(\"Decryption failed. Invalid key or corrupted message.\")\n",
        "        return None"
      ]
    },
    {
      "cell_type": "code",
      "execution_count": null,
      "metadata": {
        "colab": {
          "base_uri": "https://localhost:8080/"
        },
        "id": "6fr541UBTBPN",
        "outputId": "37715d2b-8ec4-4df1-c94d-e5634f3cff3f"
      },
      "outputs": [
        {
          "output_type": "stream",
          "name": "stdout",
          "text": [
            "Enter the secret message to encode: Hassan\n",
            "Enter the encryption key: 123123\n",
            "Encrypted message: 6/k8shSWDazzDMRs3MK/zg==\n",
            "Message encoded into encoded_audio.wav\n"
          ]
        }
      ],
      "source": [
        "#input_audio_path = 'Sample_Wav.wav'  # Path to the input audio file\n",
        "#output_audio_path = 'encoded_audio.wav'  # Path to save the encoded audio\n",
        "#secret_message = input(\"Enter the secret message to encode: \")\n",
        "#encryption_key = input(\"Enter the encryption key: \")  # User-provided key for AES encryption\n",
        "#encode_audio(input_audio_path, secret_message, encryption_key, output_audio_path)"
      ]
    },
    {
      "cell_type": "code",
      "execution_count": null,
      "metadata": {
        "colab": {
          "base_uri": "https://localhost:8080/"
        },
        "id": "X5Xy1p3tTRA5",
        "outputId": "33c71588-dc74-4274-e557-db9b10b05b79"
      },
      "outputs": [
        {
          "output_type": "stream",
          "name": "stdout",
          "text": [
            "\n",
            "Decoding the message from the encoded audio...\n",
            "Enter the decryption key:123123\n",
            "Decrypted message: YEssssssssss\n"
          ]
        }
      ],
      "source": [
        "#print(\"\\nDecoding the message from the encoded audio...\")\n",
        "#output_audio_path = 'Eco_audio.wav'\n",
        "#key=input(\"Enter the decryption key:\")\n",
        "#decoded_message = decode_audio(output_audio_path,key)"
      ]
    },
    {
      "cell_type": "code",
      "source": [
        "from Crypto.Cipher import AES\n",
        "from Crypto.Util.Padding import pad, unpad\n",
        "import base64\n",
        "\n",
        "# Helper function to generate a 16-byte AES key from the user-provided key\n",
        "def generate_aes_key(key):\n",
        "    return pad(key.encode('utf-8'), 16)[:16]  # Ensure the key is 16 bytes long\n",
        "\n",
        "# Function to encrypt the message using AES\n",
        "def encrypt_message(message, key):\n",
        "    aes_key = generate_aes_key(key)\n",
        "    cipher = AES.new(aes_key, AES.MODE_ECB)\n",
        "    encrypted_message = cipher.encrypt(pad(message.encode('utf-8'), AES.block_size))\n",
        "    return base64.b64encode(encrypted_message).decode('utf-8')\n",
        "\n",
        "# Function to decrypt the message using AES\n",
        "def decrypt_message(encrypted_message, key):\n",
        "    aes_key = generate_aes_key(key)\n",
        "    cipher = AES.new(aes_key, AES.MODE_ECB)\n",
        "    encrypted_message_bytes = base64.b64decode(encrypted_message.encode('utf-8'))\n",
        "    decrypted_message = unpad(cipher.decrypt(encrypted_message_bytes), AES.block_size)\n",
        "    return decrypted_message.decode('utf-8')\n",
        "\n",
        "# Function to embed the encrypted message in the text using whitespace\n",
        "def encode_text(text, message, key):\n",
        "    # Remove spaces from the original text\n",
        "    text = text.replace(\" \", \"\")\n",
        "\n",
        "    # Encrypt the message using AES\n",
        "    encrypted_message = encrypt_message(message, key)\n",
        "    print(f\"Encrypted message: {encrypted_message}\")\n",
        "\n",
        "    # Convert the encrypted message to binary\n",
        "    encrypted_message += '#####'  # Delimiter to mark the end of the message\n",
        "    binary_message = ''.join([format(ord(char), '08b') for char in encrypted_message])\n",
        "\n",
        "    # Embed the binary message into the text using spaces ('0') and tabs ('1')\n",
        "    encoded_text = \"\"\n",
        "    data_index = 0\n",
        "    for char in text:\n",
        "        encoded_text += char\n",
        "        if data_index < len(binary_message):\n",
        "            if binary_message[data_index] == '0':\n",
        "                encoded_text += ' '  # Use space to represent '0'\n",
        "            else:\n",
        "                encoded_text += '\\t'  # Use tab to represent '1'\n",
        "            data_index += 1\n",
        "\n",
        "    # Add any remaining binary message if the original text runs out\n",
        "    while data_index < len(binary_message):\n",
        "        if binary_message[data_index] == '0':\n",
        "            encoded_text += ' '\n",
        "        else:\n",
        "            encoded_text += '\\t'\n",
        "        data_index += 1\n",
        "\n",
        "    return encoded_text\n",
        "\n",
        "# Function to extract and decrypt the message from the encoded text\n",
        "def decode_text(encoded_text):\n",
        "    # Extract the binary message from spaces ('0') and tabs ('1')\n",
        "    binary_message = \"\"\n",
        "    for char in encoded_text:\n",
        "        if char == ' ':\n",
        "            binary_message += '0'\n",
        "        elif char == '\\t':\n",
        "            binary_message += '1'\n",
        "\n",
        "    # Convert the binary message to text\n",
        "    try:\n",
        "        message = ''.join([chr(int(binary_message[i:i + 8], 2)) for i in range(0, len(binary_message), 8)])\n",
        "        encrypted_message = message.split('#####')[0]  # Extract the message up to the delimiter\n",
        "    except ValueError:\n",
        "        print(\"Failed to extract the message. The encoded text may be corrupted.\")\n",
        "        return None\n",
        "\n",
        "    # Ask the user for the decryption key\n",
        "    key = input(\"Enter the decryption key: \")\n",
        "\n",
        "    # Decrypt the message using AES\n",
        "    try:\n",
        "        decrypted_message = decrypt_message(encrypted_message, key)\n",
        "        print(f\"Decrypted message: {decrypted_message}\")\n",
        "        return decrypted_message\n",
        "    except (ValueError, KeyError):\n",
        "        print(\"Decryption failed. Invalid key or corrupted message.\")\n",
        "        return None"
      ],
      "metadata": {
        "id": "jK8z866LOFB8"
      },
      "execution_count": 4,
      "outputs": []
    },
    {
      "cell_type": "code",
      "source": [
        "original_text = input(\"Enter the original text to encode the message in: \")\n",
        "secret_message = input(\"Enter the secret message to encode: \")\n",
        "encryption_key = input(\"Enter the encryption key: \")  # User-provided key for AES encryption\n",
        "\n",
        "encoded_text = encode_text(original_text, secret_message, encryption_key)\n",
        "print(\"\\nEncoded Text:\")\n",
        "print(encoded_text)"
      ],
      "metadata": {
        "colab": {
          "base_uri": "https://localhost:8080/"
        },
        "id": "MZ90mx-DT37T",
        "outputId": "1958d542-b2a6-412a-baa0-2b6051c3562e"
      },
      "execution_count": 5,
      "outputs": [
        {
          "output_type": "stream",
          "name": "stdout",
          "text": [
            "Enter the original text to encode the message in: Testing\n",
            "Enter the secret message to encode: haha\n",
            "Enter the encryption key: 123123\n",
            "Encrypted message: dcEg6HYeNx8N92M6jRP49Q==\n",
            "\n",
            "Encoded Text:\n",
            "T e\ts\tt i n\tg   \t\t   \t\t \t   \t \t \t\t  \t\t\t  \t\t \t\t  \t  \t    \t \t\t  \t \t\t  \t \t \t  \t\t\t  \t\t\t\t     \t\t\t    \t  \t\t\t   \t\t\t  \t  \t\t  \t  \t  \t\t \t  \t\t \t\t  \t\t \t \t  \t \t  \t  \t \t      \t\t \t    \t\t\t  \t \t \t   \t  \t\t\t\t \t  \t\t\t\t \t  \t   \t\t  \t   \t\t  \t   \t\t  \t   \t\t  \t   \t\t\n"
          ]
        }
      ]
    },
    {
      "cell_type": "code",
      "source": [
        "print(\"\\nDecoding the message from the encoded text...\")\n",
        "decoded_message = decode_text(encoded_text)"
      ],
      "metadata": {
        "colab": {
          "base_uri": "https://localhost:8080/"
        },
        "id": "vOTgXzmLT47W",
        "outputId": "b90ab815-1334-48b3-838f-f8dfcd4429fd"
      },
      "execution_count": 6,
      "outputs": [
        {
          "output_type": "stream",
          "name": "stdout",
          "text": [
            "\n",
            "Decoding the message from the encoded text...\n",
            "Enter the decryption key: 123123\n",
            "Decrypted message: haha\n"
          ]
        }
      ]
    },
    {
      "cell_type": "code",
      "source": [
        "import cv2\n",
        "import numpy as np\n",
        "from Crypto.Cipher import AES\n",
        "from Crypto.Util.Padding import pad, unpad\n",
        "import base64\n",
        "\n",
        "def generate_aes_key(key):\n",
        "    if isinstance(key, str):\n",
        "        key = key.encode('utf-8')\n",
        "    return pad(key, AES.block_size)[:AES.block_size]\n",
        "\n",
        "def encrypt_message(message, key):\n",
        "    aes_key = generate_aes_key(key)\n",
        "    cipher = AES.new(aes_key, AES.MODE_ECB)\n",
        "    padded_message = pad(message.encode('utf-8'), AES.block_size)\n",
        "    encrypted_message = cipher.encrypt(padded_message)\n",
        "    return base64.b64encode(encrypted_message).decode('utf-8')\n",
        "\n",
        "def decrypt_message(encrypted_message, key):\n",
        "    try:\n",
        "        aes_key = generate_aes_key(key)\n",
        "        cipher = AES.new(aes_key, AES.MODE_ECB)\n",
        "        decrypted_message = cipher.decrypt(base64.b64decode(encrypted_message))\n",
        "        unpadded_message = unpad(decrypted_message, AES.block_size)\n",
        "        return unpadded_message.decode('utf-8')\n",
        "    except Exception:\n",
        "        return \"Cannot decrypt\"\n",
        "\n",
        "def extract_frames(video_path):\n",
        "    video = cv2.VideoCapture(video_path)\n",
        "    frames = []\n",
        "    while True:\n",
        "        ret, frame = video.read()\n",
        "        if not ret:\n",
        "            break\n",
        "        frames.append(frame)\n",
        "    video.release()\n",
        "    return frames\n",
        "\n",
        "def embed_message(frames, encrypted_message):\n",
        "    message_bits = ''.join(format(ord(c), '08b') for c in encrypted_message)\n",
        "    bit_index = 0\n",
        "    for frame in frames:\n",
        "        for j in range(frame.shape[0]):\n",
        "            for k in range(frame.shape[1]):\n",
        "                if bit_index >= len(message_bits):\n",
        "                    return frames\n",
        "                pixel = frame[j, k]\n",
        "                for l in range(3):  # RGB channels\n",
        "                    if bit_index >= len(message_bits):\n",
        "                        break\n",
        "                    # Modify the least significant bit of the pixel value\n",
        "                    pixel[l] = (pixel[l] & 254) | int(message_bits[bit_index])\n",
        "                    bit_index += 1\n",
        "    return frames\n",
        "\n",
        "def extract_message_from_video(video_path, message_length):\n",
        "    video = cv2.VideoCapture(video_path)\n",
        "    extracted_bits = ''\n",
        "    while True:\n",
        "        ret, frame = video.read()\n",
        "        if not ret or len(extracted_bits) >= message_length * 8:\n",
        "            break\n",
        "        for j in range(frame.shape[0]):\n",
        "            for k in range(frame.shape[1]):\n",
        "                pixel = frame[j, k]\n",
        "                for l in range(3):  # RGB channels\n",
        "                    extracted_bits += str(pixel[l] & 1)\n",
        "                    if len(extracted_bits) >= message_length * 8:\n",
        "                        video.release()\n",
        "                        return extracted_bits\n",
        "    video.release()\n",
        "    return extracted_bits\n",
        "\n",
        "def save_video(frames, output_path, fps=30):\n",
        "    height, width, _ = frames[0].shape\n",
        "    fourcc = cv2.VideoWriter_fourcc(*'FFV1')  # Lossless codec (FFV1)\n",
        "    out = cv2.VideoWriter(output_path, fourcc, fps, (width, height))\n",
        "    for frame in frames:\n",
        "        out.write(frame)\n",
        "    out.release()"
      ],
      "metadata": {
        "id": "wh4yHBj5dNEc"
      },
      "execution_count": null,
      "outputs": []
    },
    {
      "cell_type": "code",
      "source": [
        "!pip install gradio\n"
      ],
      "metadata": {
        "colab": {
          "base_uri": "https://localhost:8080/"
        },
        "id": "Wu86h6Ux9Wte",
        "outputId": "19037bff-3d61-4c4f-f340-c2ec596f7161"
      },
      "execution_count": null,
      "outputs": [
        {
          "output_type": "stream",
          "name": "stdout",
          "text": [
            "Requirement already satisfied: gradio in /usr/local/lib/python3.10/dist-packages (5.6.0)\n",
            "Requirement already satisfied: aiofiles<24.0,>=22.0 in /usr/local/lib/python3.10/dist-packages (from gradio) (23.2.1)\n",
            "Requirement already satisfied: anyio<5.0,>=3.0 in /usr/local/lib/python3.10/dist-packages (from gradio) (3.7.1)\n",
            "Requirement already satisfied: fastapi<1.0,>=0.115.2 in /usr/local/lib/python3.10/dist-packages (from gradio) (0.115.5)\n",
            "Requirement already satisfied: ffmpy in /usr/local/lib/python3.10/dist-packages (from gradio) (0.4.0)\n",
            "Requirement already satisfied: gradio-client==1.4.3 in /usr/local/lib/python3.10/dist-packages (from gradio) (1.4.3)\n",
            "Requirement already satisfied: httpx>=0.24.1 in /usr/local/lib/python3.10/dist-packages (from gradio) (0.27.2)\n",
            "Requirement already satisfied: huggingface-hub>=0.25.1 in /usr/local/lib/python3.10/dist-packages (from gradio) (0.26.2)\n",
            "Requirement already satisfied: jinja2<4.0 in /usr/local/lib/python3.10/dist-packages (from gradio) (3.1.4)\n",
            "Requirement already satisfied: markupsafe~=2.0 in /usr/local/lib/python3.10/dist-packages (from gradio) (2.1.5)\n",
            "Requirement already satisfied: numpy<3.0,>=1.0 in /usr/local/lib/python3.10/dist-packages (from gradio) (1.26.4)\n",
            "Requirement already satisfied: orjson~=3.0 in /usr/local/lib/python3.10/dist-packages (from gradio) (3.10.11)\n",
            "Requirement already satisfied: packaging in /usr/local/lib/python3.10/dist-packages (from gradio) (24.2)\n",
            "Requirement already satisfied: pandas<3.0,>=1.0 in /usr/local/lib/python3.10/dist-packages (from gradio) (2.2.2)\n",
            "Requirement already satisfied: pillow<12.0,>=8.0 in /usr/local/lib/python3.10/dist-packages (from gradio) (11.0.0)\n",
            "Requirement already satisfied: pydantic>=2.0 in /usr/local/lib/python3.10/dist-packages (from gradio) (2.9.2)\n",
            "Requirement already satisfied: pydub in /usr/local/lib/python3.10/dist-packages (from gradio) (0.25.1)\n",
            "Requirement already satisfied: python-multipart==0.0.12 in /usr/local/lib/python3.10/dist-packages (from gradio) (0.0.12)\n",
            "Requirement already satisfied: pyyaml<7.0,>=5.0 in /usr/local/lib/python3.10/dist-packages (from gradio) (6.0.2)\n",
            "Requirement already satisfied: ruff>=0.2.2 in /usr/local/lib/python3.10/dist-packages (from gradio) (0.8.0)\n",
            "Requirement already satisfied: safehttpx<1.0,>=0.1.1 in /usr/local/lib/python3.10/dist-packages (from gradio) (0.1.1)\n",
            "Requirement already satisfied: semantic-version~=2.0 in /usr/local/lib/python3.10/dist-packages (from gradio) (2.10.0)\n",
            "Requirement already satisfied: starlette<1.0,>=0.40.0 in /usr/local/lib/python3.10/dist-packages (from gradio) (0.41.3)\n",
            "Requirement already satisfied: tomlkit==0.12.0 in /usr/local/lib/python3.10/dist-packages (from gradio) (0.12.0)\n",
            "Requirement already satisfied: typer<1.0,>=0.12 in /usr/local/lib/python3.10/dist-packages (from gradio) (0.13.0)\n",
            "Requirement already satisfied: typing-extensions~=4.0 in /usr/local/lib/python3.10/dist-packages (from gradio) (4.12.2)\n",
            "Requirement already satisfied: uvicorn>=0.14.0 in /usr/local/lib/python3.10/dist-packages (from gradio) (0.32.1)\n",
            "Requirement already satisfied: fsspec in /usr/local/lib/python3.10/dist-packages (from gradio-client==1.4.3->gradio) (2024.10.0)\n",
            "Requirement already satisfied: websockets<13.0,>=10.0 in /usr/local/lib/python3.10/dist-packages (from gradio-client==1.4.3->gradio) (12.0)\n",
            "Requirement already satisfied: idna>=2.8 in /usr/local/lib/python3.10/dist-packages (from anyio<5.0,>=3.0->gradio) (3.10)\n",
            "Requirement already satisfied: sniffio>=1.1 in /usr/local/lib/python3.10/dist-packages (from anyio<5.0,>=3.0->gradio) (1.3.1)\n",
            "Requirement already satisfied: exceptiongroup in /usr/local/lib/python3.10/dist-packages (from anyio<5.0,>=3.0->gradio) (1.2.2)\n",
            "Requirement already satisfied: certifi in /usr/local/lib/python3.10/dist-packages (from httpx>=0.24.1->gradio) (2024.8.30)\n",
            "Requirement already satisfied: httpcore==1.* in /usr/local/lib/python3.10/dist-packages (from httpx>=0.24.1->gradio) (1.0.7)\n",
            "Requirement already satisfied: h11<0.15,>=0.13 in /usr/local/lib/python3.10/dist-packages (from httpcore==1.*->httpx>=0.24.1->gradio) (0.14.0)\n",
            "Requirement already satisfied: filelock in /usr/local/lib/python3.10/dist-packages (from huggingface-hub>=0.25.1->gradio) (3.16.1)\n",
            "Requirement already satisfied: requests in /usr/local/lib/python3.10/dist-packages (from huggingface-hub>=0.25.1->gradio) (2.32.3)\n",
            "Requirement already satisfied: tqdm>=4.42.1 in /usr/local/lib/python3.10/dist-packages (from huggingface-hub>=0.25.1->gradio) (4.66.6)\n",
            "Requirement already satisfied: python-dateutil>=2.8.2 in /usr/local/lib/python3.10/dist-packages (from pandas<3.0,>=1.0->gradio) (2.8.2)\n",
            "Requirement already satisfied: pytz>=2020.1 in /usr/local/lib/python3.10/dist-packages (from pandas<3.0,>=1.0->gradio) (2024.2)\n",
            "Requirement already satisfied: tzdata>=2022.7 in /usr/local/lib/python3.10/dist-packages (from pandas<3.0,>=1.0->gradio) (2024.2)\n",
            "Requirement already satisfied: annotated-types>=0.6.0 in /usr/local/lib/python3.10/dist-packages (from pydantic>=2.0->gradio) (0.7.0)\n",
            "Requirement already satisfied: pydantic-core==2.23.4 in /usr/local/lib/python3.10/dist-packages (from pydantic>=2.0->gradio) (2.23.4)\n",
            "Requirement already satisfied: click>=8.0.0 in /usr/local/lib/python3.10/dist-packages (from typer<1.0,>=0.12->gradio) (8.1.7)\n",
            "Requirement already satisfied: shellingham>=1.3.0 in /usr/local/lib/python3.10/dist-packages (from typer<1.0,>=0.12->gradio) (1.5.4)\n",
            "Requirement already satisfied: rich>=10.11.0 in /usr/local/lib/python3.10/dist-packages (from typer<1.0,>=0.12->gradio) (13.9.4)\n",
            "Requirement already satisfied: six>=1.5 in /usr/local/lib/python3.10/dist-packages (from python-dateutil>=2.8.2->pandas<3.0,>=1.0->gradio) (1.16.0)\n",
            "Requirement already satisfied: markdown-it-py>=2.2.0 in /usr/local/lib/python3.10/dist-packages (from rich>=10.11.0->typer<1.0,>=0.12->gradio) (3.0.0)\n",
            "Requirement already satisfied: pygments<3.0.0,>=2.13.0 in /usr/local/lib/python3.10/dist-packages (from rich>=10.11.0->typer<1.0,>=0.12->gradio) (2.18.0)\n",
            "Requirement already satisfied: charset-normalizer<4,>=2 in /usr/local/lib/python3.10/dist-packages (from requests->huggingface-hub>=0.25.1->gradio) (3.4.0)\n",
            "Requirement already satisfied: urllib3<3,>=1.21.1 in /usr/local/lib/python3.10/dist-packages (from requests->huggingface-hub>=0.25.1->gradio) (2.2.3)\n",
            "Requirement already satisfied: mdurl~=0.1 in /usr/local/lib/python3.10/dist-packages (from markdown-it-py>=2.2.0->rich>=10.11.0->typer<1.0,>=0.12->gradio) (0.1.2)\n"
          ]
        }
      ]
    },
    {
      "cell_type": "code",
      "source": [
        "encrypted_message_global = None"
      ],
      "metadata": {
        "id": "MvVSKEQNhLZj"
      },
      "execution_count": null,
      "outputs": []
    },
    {
      "cell_type": "code",
      "source": [
        "print(encrypted_message_global)"
      ],
      "metadata": {
        "colab": {
          "base_uri": "https://localhost:8080/"
        },
        "id": "Wp5d-sejiPzf",
        "outputId": "7c94a02f-a2de-485f-b891-bd9bb24499c8"
      },
      "execution_count": null,
      "outputs": [
        {
          "output_type": "stream",
          "name": "stdout",
          "text": [
            "owjKfy4nyN8/vZZBWT9vHg==\n"
          ]
        }
      ]
    },
    {
      "cell_type": "code",
      "source": [
        "def encode_video(input_video, secret_message, key, output_video):\n",
        "\n",
        "    global encrypted_message_global\n",
        "\n",
        "    # Extract frames from the input video\n",
        "    original_frames = extract_frames(input_video)\n",
        "\n",
        "    # Encrypt the secret message\n",
        "    encrypted_message = encrypt_message(secret_message, key)\n",
        "    encrypted_message_global = encrypted_message\n",
        "    print(f\"Encrypted message: {encrypted_message}\")\n",
        "\n",
        "    # Embed the encrypted message into the frames\n",
        "    stego_frames = embed_message(original_frames, encrypted_message)\n",
        "\n",
        "    # Save the encoded frames back as a video\n",
        "    save_video(stego_frames, output_video)\n",
        "    print(f\"Message encoded into {output_video}\")\n",
        "    return \"Video encoding completed successfully!\"\n",
        "\n",
        "def decode_video(output_video, kay):\n",
        "  print(\"Decoding the message from the encoded video...\")\n",
        "  global encrypted_message_global\n",
        "  encrypted_message=encrypted_message_global\n",
        "\n",
        "  extracted_bits = extract_message_from_video(output_video, len(encrypted_message))\n",
        "\n",
        "  if extracted_bits:\n",
        "     extracted_message = ''.join(chr(int(extracted_bits[i:i+8], 2)) for i in range(0, len(extracted_bits), 8))\n",
        "     decrypted_message = decrypt_message(extracted_message, kay)\n",
        "     return decrypted_message\n",
        "     if decrypted_message:\n",
        "        return decrypted_message\n",
        "     else:\n",
        "        print(\"Failed to decrypt the message\")\n",
        "  else:\n",
        "    print(\"No message could be extracted from the video\")\n"
      ],
      "metadata": {
        "id": "C6M37yewjxlV"
      },
      "execution_count": null,
      "outputs": []
    },
    {
      "cell_type": "code",
      "source": [
        "import gradio as gr\n",
        "from pathlib import Path\n",
        "\n",
        "# File type options\n",
        "FILE_TYPES = [\"Image\", \"Audio\", \"Video\"]\n",
        "\n",
        "# Encoding logic\n",
        "def hide_message(file_type, file_path, secret_message, encryption_key):\n",
        "    if file_path is None:\n",
        "        return \"Please upload a file.\"\n",
        "\n",
        "    # Generate output file name based on type\n",
        "    input_path = Path(file_path.name)  # Get uploaded file's name\n",
        "    if file_type == \"Image\":\n",
        "        output_file = str(input_path.stem) + \"_encoded.png\"  # Force .png extension\n",
        "        return encode_image(file_path, secret_message, encryption_key, output_file)\n",
        "    elif file_type == \"Audio\":\n",
        "        output_file = str(input_path.stem) + \"_encoded.wav\"  # Force .wav extension\n",
        "        return encode_audio(file_path, secret_message, encryption_key, output_file)\n",
        "    elif file_type == \"Video\":\n",
        "        output_file = str(input_path.stem) + \"_encoded.avi\"  # Force .avi extension\n",
        "        return encode_video(file_path, secret_message, encryption_key, output_file)\n",
        "    else:\n",
        "        return \"Invalid file type.\"\n",
        "\n",
        "# Decoding logic\n",
        "def reveal_message(file_type, file_path, encryption_key):\n",
        "    if file_path is None:\n",
        "        return \"Please upload a file.\"\n",
        "\n",
        "    if file_type == \"Image\":\n",
        "        return decode_image(file_path, encryption_key)\n",
        "    elif file_type == \"Audio\":\n",
        "        return decode_audio(file_path, encryption_key)\n",
        "    elif file_type == \"Video\":\n",
        "        return decode_video(file_path, encryption_key)\n",
        "    else:\n",
        "        return \"Invalid file type.\"\n",
        "\n",
        "# GUI setup\n",
        "with gr.Blocks() as gui:\n",
        "    gr.Markdown(\"# Steganography Tool for Image, Audio, and Video\")\n",
        "\n",
        "    with gr.Tabs():\n",
        "        # Tab for Hiding Message\n",
        "        with gr.Tab(\"Hide Message\"):\n",
        "            file_type_hide = gr.Radio(FILE_TYPES, label=\"Select File Type\")\n",
        "            file_path_hide = gr.File(label=\"Upload File\")\n",
        "            secret_message = gr.Textbox(label=\"Secret Message\")\n",
        "            encryption_key_hide = gr.Textbox(label=\"Encryption Key\", type=\"password\")\n",
        "            encode_button = gr.Button(\"Encode Message\")\n",
        "\n",
        "            encode_result = gr.Textbox(label=\"Result\")\n",
        "            encode_button.click(hide_message,\n",
        "                                inputs=[file_type_hide, file_path_hide, secret_message, encryption_key_hide],\n",
        "                                outputs=encode_result)\n",
        "\n",
        "        # Tab for Revealing Message\n",
        "        with gr.Tab(\"Reveal Message\"):\n",
        "            file_type_reveal = gr.Radio(FILE_TYPES, label=\"Select File Type\")\n",
        "            file_path_reveal = gr.File(label=\"Upload File\")\n",
        "            encryption_key_reveal = gr.Textbox(label=\"Decryption Key\", type=\"password\")\n",
        "            decode_button = gr.Button(\"Decode Message\")\n",
        "\n",
        "            decode_result = gr.Textbox(label=\"Decoded Message\")\n",
        "            decode_button.click(reveal_message,\n",
        "                                inputs=[file_type_reveal, file_path_reveal, encryption_key_reveal],\n",
        "                                outputs=decode_result)\n",
        "\n",
        "# Launch the GUI\n",
        "gui.launch()"
      ],
      "metadata": {
        "colab": {
          "base_uri": "https://localhost:8080/",
          "height": 646
        },
        "id": "Sz1ZYGOz9zhU",
        "outputId": "c3370164-cf0e-4028-fec4-73449d23eae3"
      },
      "execution_count": null,
      "outputs": [
        {
          "output_type": "stream",
          "name": "stdout",
          "text": [
            "Running Gradio in a Colab notebook requires sharing enabled. Automatically setting `share=True` (you can turn this off by setting `share=False` in `launch()` explicitly).\n",
            "\n",
            "Colab notebook detected. To show errors in colab notebook, set debug=True in launch()\n",
            "* Running on public URL: https://2e6dfc5caedd68dbf1.gradio.live\n",
            "\n",
            "This share link expires in 72 hours. For free permanent hosting and GPU upgrades, run `gradio deploy` from the terminal in the working directory to deploy to Hugging Face Spaces (https://huggingface.co/spaces)\n"
          ]
        },
        {
          "output_type": "display_data",
          "data": {
            "text/plain": [
              "<IPython.core.display.HTML object>"
            ],
            "text/html": [
              "<div><iframe src=\"https://2e6dfc5caedd68dbf1.gradio.live\" width=\"100%\" height=\"500\" allow=\"autoplay; camera; microphone; clipboard-read; clipboard-write;\" frameborder=\"0\" allowfullscreen></iframe></div>"
            ]
          },
          "metadata": {}
        },
        {
          "output_type": "execute_result",
          "data": {
            "text/plain": []
          },
          "metadata": {},
          "execution_count": 22
        }
      ]
    }
  ],
  "metadata": {
    "colab": {
      "provenance": []
    },
    "kernelspec": {
      "display_name": "Python 3",
      "name": "python3"
    },
    "language_info": {
      "name": "python"
    }
  },
  "nbformat": 4,
  "nbformat_minor": 0
}